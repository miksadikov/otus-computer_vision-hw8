{
  "cells": [
    {
      "cell_type": "code",
      "execution_count": null,
      "metadata": {
        "id": "s4j4HgTQgRnb"
      },
      "outputs": [],
      "source": [
        "!pip install mediapipe"
      ]
    },
    {
      "cell_type": "code",
      "execution_count": null,
      "metadata": {
        "id": "8kpdv74dgXp2"
      },
      "outputs": [],
      "source": [
        "import os\n",
        "import io\n",
        "import zipfile\n",
        "import shutil \n",
        "from pathlib import Path\n",
        "import cv2\n",
        "import itertools\n",
        "import numpy as np\n",
        "from time import time\n",
        "import mediapipe as mp\n",
        "import matplotlib.pyplot as plt\n",
        "from typing import List\n",
        "from tqdm import tqdm\n",
        "from sklearn.neighbors import NearestNeighbors\n",
        "import matplotlib.pyplot as plt\n",
        "%matplotlib inline"
      ]
    },
    {
      "cell_type": "code",
      "execution_count": null,
      "metadata": {
        "id": "wY2r1Bz9gxpy"
      },
      "outputs": [],
      "source": [
        "# Функция для распаковки zip-архива\n",
        "def unzip_data(zip_file, destination_dir):\n",
        "    print('Data extraction started...', end='')\n",
        "    with zipfile.ZipFile(zip_file, 'r') as zip_obj:\n",
        "        zip_obj.extractall(destination_dir)\n",
        "    print('done.')\n",
        "    print(f'Files unzipped to \\'{destination_dir}\\'\\n')"
      ]
    },
    {
      "cell_type": "code",
      "execution_count": null,
      "metadata": {
        "colab": {
          "base_uri": "https://localhost:8080/"
        },
        "id": "lSNOXIL_g6ma",
        "outputId": "d4a1cfac-195e-47db-a97f-2a067cb6d9f8"
      },
      "outputs": [
        {
          "output_type": "stream",
          "name": "stdout",
          "text": [
            "Mounted at /content/drive\n"
          ]
        }
      ],
      "source": [
        "from google.colab import drive\n",
        "drive.mount('/content/drive')"
      ]
    },
    {
      "cell_type": "code",
      "execution_count": null,
      "metadata": {
        "colab": {
          "base_uri": "https://localhost:8080/"
        },
        "id": "T8tj3pe8hC8b",
        "outputId": "fa0b06cc-3438-444e-f8a4-93cf1d608198"
      },
      "outputs": [
        {
          "output_type": "stream",
          "name": "stdout",
          "text": [
            "Data extraction started...done.\n",
            "Files unzipped to '/content/ck48-mini/source/'\n",
            "\n"
          ]
        }
      ],
      "source": [
        "data_root = '/content/ck48/'\n",
        "unzip_data(zip_file='/content/drive/MyDrive/ck48-mini.zip', destination_dir='/content/ck48-mini/source/')"
      ]
    },
    {
      "cell_type": "code",
      "execution_count": null,
      "metadata": {
        "id": "sONt3B1DhZOI"
      },
      "outputs": [],
      "source": [
        "class_names = ['anger', 'contempt', 'disgust', 'fear', 'happy', 'sadness', 'surprise']\n",
        "train_dir = 'train'\n",
        "valid_dir = 'valid'"
      ]
    },
    {
      "cell_type": "code",
      "source": [
        "for root, dirs, files in os.walk(\"/content/ck48-mini/source/\"):\n",
        "    if not files:\n",
        "        continue\n",
        "    prefix = os.path.basename(root)\n",
        "    for f in files:\n",
        "        os.rename(os.path.join(root, f), os.path.join(root, \"{}_{}\".format(prefix, f)))"
      ],
      "metadata": {
        "id": "5u9iB6fifEGa"
      },
      "execution_count": null,
      "outputs": []
    },
    {
      "cell_type": "code",
      "source": [
        "!mkdir /content/ck48-mini/train/"
      ],
      "metadata": {
        "id": "C2TBgkC_gK7u"
      },
      "execution_count": null,
      "outputs": []
    },
    {
      "cell_type": "code",
      "source": [
        "for root, dirs, files in os.walk('/content/ck48-mini/source/'):\n",
        "   for file in files:\n",
        "      path_file = os.path.join(root,file)\n",
        "      shutil.copy2(path_file, '/content/ck48-mini/train/')"
      ],
      "metadata": {
        "id": "DZrFLtYDgUt0"
      },
      "execution_count": null,
      "outputs": []
    },
    {
      "cell_type": "code",
      "execution_count": null,
      "metadata": {
        "id": "z458sJvThpYi"
      },
      "outputs": [],
      "source": [
        "# инициализируем FaceMesh\n",
        "mp_face_mesh = mp.solutions.face_mesh\n",
        "face_mesh_images = mp_face_mesh.FaceMesh(static_image_mode=True, max_num_faces=1,\n",
        "                                         min_detection_confidence=0.5)\n",
        "mp_drawing = mp.solutions.drawing_utils\n",
        "mp_drawing_styles = mp.solutions.drawing_styles"
      ]
    },
    {
      "cell_type": "code",
      "execution_count": null,
      "metadata": {
        "id": "80H-fC7XhupR"
      },
      "outputs": [],
      "source": [
        "DATA_DIR = '/content/ck48-mini/train/'"
      ]
    },
    {
      "cell_type": "code",
      "execution_count": null,
      "metadata": {
        "id": "iGnHFp6xk4Mu"
      },
      "outputs": [],
      "source": [
        "def create_probe_eval_set(files: List):\n",
        "    # выбираем случайный индекс между 0 и len(files)-1\n",
        "    random_idx = np.random.randint(0,len(files))\n",
        "    probe_img_fpaths = [files[random_idx]]\n",
        "    eval_img_fpaths = [files[idx] for idx in range(len(files)) if idx != random_idx]\n",
        "    return probe_img_fpaths, eval_img_fpaths"
      ]
    },
    {
      "cell_type": "code",
      "source": [
        "def get_facemesh_coords(landmark_list, img):\n",
        "    # преобразуем FaceMesh landmarks координаты в 468x3 NumPy массив.\n",
        "    h, w = img.shape[:2]\n",
        "    xyz = [(lm.x, lm.y, lm.z) for lm in landmark_list.landmark]\n",
        "    res = np.multiply(xyz, [w, h, w]).astype(int)\n",
        "    return res"
      ],
      "metadata": {
        "id": "O9Vw6EKaI-9o"
      },
      "execution_count": null,
      "outputs": []
    },
    {
      "cell_type": "code",
      "execution_count": null,
      "metadata": {
        "id": "IiPpN-y3lNAK"
      },
      "outputs": [],
      "source": [
        "# генерируем face landmarks\n",
        "def generate_face_landmarks(img_fpaths: List[str]):\n",
        "    landmarks_set = list()\n",
        "    landmarks_label = list()\n",
        "\n",
        "    for img_fpath in img_fpaths:\n",
        "        f = os.path.join(DATA_DIR, img_fpath)\n",
        "        img = cv2.imread(f)\n",
        "        # добавляем face landmarks\n",
        "        results = face_mesh_images.process(cv2.cvtColor(img, cv2.COLOR_BGR2RGB))       \n",
        "        landmarks_set.append(get_facemesh_coords(results.multi_face_landmarks[0], img))\n",
        "        # добавляем метки классов\n",
        "        landmarks_label.append(img_fpath.split(\"_\")[0])   \n",
        "\n",
        "    return landmarks_set, landmarks_label"
      ]
    },
    {
      "cell_type": "code",
      "execution_count": null,
      "metadata": {
        "colab": {
          "base_uri": "https://localhost:8080/"
        },
        "id": "yjhjjbsom_XN",
        "outputId": "8f2fb5b1-fd0e-402b-d48a-27a5a680b003"
      },
      "outputs": [
        {
          "output_type": "stream",
          "name": "stderr",
          "text": [
            "100%|██████████| 7/7 [00:05<00:00,  1.37it/s]\n"
          ]
        }
      ],
      "source": [
        "files = os.listdir(DATA_DIR)\n",
        "files.sort()\n",
        "eval_set = list()\n",
        "eval_labels = list()\n",
        "probe_set = list()\n",
        "probe_labels = list()\n",
        "IMAGES_PER_IDENTITY = 49\n",
        "for i in tqdm(range(0, len(files), IMAGES_PER_IDENTITY), unit_divisor=True):\n",
        "    probe, eval = create_probe_eval_set(files[i:i+IMAGES_PER_IDENTITY])\n",
        "    # Генерируем face_landmarks:\n",
        "    eval_set_t, eval_labels_t = generate_face_landmarks(eval)\n",
        "    eval_set.extend(eval_set_t)\n",
        "    eval_labels.extend(eval_labels_t)\n",
        "    \n",
        "    probe_set_t, probe_labels_t = generate_face_landmarks(probe)\n",
        "    probe_set.extend(probe_set_t)\n",
        "    probe_labels.extend(probe_labels_t)"
      ]
    },
    {
      "cell_type": "code",
      "source": [
        "eval_set2d = list()\n",
        "for eval in eval_set:\n",
        "  eval1d = eval.reshape((1404, ))\n",
        "  eval_set2d.append(eval1d)\n",
        "arrX = np.array(eval_set2d) "
      ],
      "metadata": {
        "id": "KoFBnXa7Co1X"
      },
      "execution_count": null,
      "outputs": []
    },
    {
      "cell_type": "code",
      "source": [
        "probe_set2d = list()\n",
        "for probe in probe_set:\n",
        "  probe1d = probe.reshape((1404, ))\n",
        "  probe_set2d.append(probe1d)\n",
        "arrY = np.array(probe_set2d) "
      ],
      "metadata": {
        "id": "qamZdYTWrwJe"
      },
      "execution_count": null,
      "outputs": []
    },
    {
      "cell_type": "code",
      "execution_count": null,
      "metadata": {
        "id": "RaIKrmdywP43",
        "colab": {
          "base_uri": "https://localhost:8080/"
        },
        "outputId": "b568fa38-df36-4285-ffc2-38e5c591fbf9"
      },
      "outputs": [
        {
          "output_type": "execute_result",
          "data": {
            "text/plain": [
              "NearestNeighbors(metric='cosine', n_neighbors=3)"
            ]
          },
          "metadata": {},
          "execution_count": 19
        }
      ],
      "source": [
        "# Для распознавания будем использовать классификатор kNN с метрикой расстояния 'cosine'\n",
        "nn = NearestNeighbors(n_neighbors=3, metric=\"cosine\")\n",
        "nn.fit(X=arrX)"
      ]
    },
    {
      "cell_type": "code",
      "execution_count": null,
      "metadata": {
        "id": "r5vT_myXxH_x"
      },
      "outputs": [],
      "source": [
        "dists, inds = nn.kneighbors(X=arrY, n_neighbors=2, return_distance=True)"
      ]
    },
    {
      "cell_type": "code",
      "source": [
        "# Посчитаем метрику p@k (Precision@K)\n",
        "p_at_k = np.zeros(len(arrY))\n",
        "for i in range(len(arrY)):\n",
        "    true_label = probe_labels[i]\n",
        "    pred_neighbr_idx = inds[i]\n",
        "    \n",
        "    pred_labels = [eval_labels[id] for id in pred_neighbr_idx]\n",
        "    pred_is_labels = [1 if label == true_label else 0 for label in pred_labels]\n",
        "    \n",
        "    p_at_k[i] = np.mean(pred_is_labels)\n",
        "    \n",
        "p_at_k.mean()"
      ],
      "metadata": {
        "colab": {
          "base_uri": "https://localhost:8080/"
        },
        "id": "oKoQ9yWesLUp",
        "outputId": "49dc0a96-a84e-416b-dd50-e49a3b394ce3"
      },
      "execution_count": null,
      "outputs": [
        {
          "output_type": "execute_result",
          "data": {
            "text/plain": [
              "0.9285714285714286"
            ]
          },
          "metadata": {},
          "execution_count": 21
        }
      ]
    },
    {
      "cell_type": "code",
      "source": [
        "# Инференс модели\n",
        "def print_ID_results(img_fpath: str, evaluation_labels: np.ndarray, verbose: bool = False):\n",
        "\n",
        "    results = face_mesh_images.process(cv2.cvtColor(img, cv2.COLOR_BGR2RGB)) \n",
        "    landmarks = get_facemesh_coords(results.multi_face_landmarks[0], img)\n",
        "    landmarks = landmarks.reshape((468*3, ))\n",
        "    \n",
        "    # получаем предсказание\n",
        "    dists, inds = nn.kneighbors(X=landmarks.reshape(1,-1), n_neighbors=1, return_distance=True)\n",
        "\n",
        "    # получаем метки\n",
        "    pred_labels = [eval_labels[i] for i in inds[0]]\n",
        "\n",
        "    no_of_matching_emotions = np.sum([1 if d <=0.6 else 0 for d in dists[0]])\n",
        "    if no_of_matching_emotions > 0:\n",
        "        print(\"Matching emotion found in database! \")\n",
        "        verbose = True\n",
        "    else: \n",
        "        print(\"No matching emotion not found in database!\")\n",
        "        \n",
        "    # выводим метки и соответствуюие расстояния\n",
        "    if verbose:\n",
        "        for label, dist in zip(pred_labels, dists[0]):\n",
        "            print(f\"Nearest neighbours found in the database have labels {label} and is at a distance of {dist}\")"
      ],
      "metadata": {
        "id": "apYocEN39eRS"
      },
      "execution_count": null,
      "outputs": []
    },
    {
      "cell_type": "code",
      "source": [
        "# Протестируем полученную модель\n",
        "img = cv2.imread(\"/content/drive/MyDrive/S032_006_00000015.png\")\n",
        "plt.imshow(img)\n",
        "print_ID_results(\"/content/drive/MyDrive/S032_006_00000015.png\", eval_labels, verbose=True)"
      ],
      "metadata": {
        "colab": {
          "base_uri": "https://localhost:8080/",
          "height": 302
        },
        "id": "lpVgorULAlPj",
        "outputId": "51b89ab5-7b99-4e91-d955-de74e4706ca1"
      },
      "execution_count": null,
      "outputs": [
        {
          "output_type": "stream",
          "name": "stdout",
          "text": [
            "Matching emotion found in database! \n",
            "Nearest neighbours found in the database have labels happy and is at a distance of 4.440892098500626e-16\n"
          ]
        },
        {
          "output_type": "display_data",
          "data": {
            "text/plain": [
              "<Figure size 432x288 with 1 Axes>"
            ],
            "image/png": "[encoded data removed]"
          },
          "metadata": {
            "needs_background": "light"
          }
        }
      ]
    },
    {
      "cell_type": "code",
      "source": [
        "img = cv2.imread(\"/content/drive/MyDrive/S037_001_00000019.png\")\n",
        "plt.imshow(img)\n",
        "print_ID_results(\"/content/drive/MyDrive/S037_001_00000019.png\", eval_labels, verbose=True)"
      ],
      "metadata": {
        "colab": {
          "base_uri": "https://localhost:8080/",
          "height": 302
        },
        "id": "c6pOpRwhDF_z",
        "outputId": "d57f97f5-4944-48b9-d3af-5e4d95c70e8d"
      },
      "execution_count": null,
      "outputs": [
        {
          "output_type": "stream",
          "name": "stdout",
          "text": [
            "Matching emotion found in database! \n",
            "Nearest neighbours found in the database have labels surprise and is at a distance of 0.0007084080807938653\n"
          ]
        },
        {
          "output_type": "display_data",
          "data": {
            "text/plain": [
              "<Figure size 432x288 with 1 Axes>"
            ],
            "image/png": "[encoded data removed]"
          },
          "metadata": {
            "needs_background": "light"
          }
        }
      ]
    },
    {
      "cell_type": "code",
      "source": [
        "img = cv2.imread(\"/content/drive/MyDrive/S058_005_00000008.png\")\n",
        "plt.imshow(img)\n",
        "print_ID_results(\"/content/drive/MyDrive/S058_005_00000008.png\", eval_labels, verbose=True)"
      ],
      "metadata": {
        "colab": {
          "base_uri": "https://localhost:8080/",
          "height": 302
        },
        "id": "8TVBqSywDRU4",
        "outputId": "00d82b8e-d28f-44be-d310-4caf2f5d4b70"
      },
      "execution_count": null,
      "outputs": [
        {
          "output_type": "stream",
          "name": "stdout",
          "text": [
            "Matching emotion found in database! \n",
            "Nearest neighbours found in the database have labels anger and is at a distance of 0.0\n"
          ]
        },
        {
          "output_type": "display_data",
          "data": {
            "text/plain": [
              "<Figure size 432x288 with 1 Axes>"
            ],
            "image/png": "[encoded data removed]"
          },
          "metadata": {
            "needs_background": "light"
          }
        }
      ]
    },
    {
      "cell_type": "code",
      "source": [
        "img = cv2.imread(\"/content/drive/MyDrive/S138_001_00000010.png\")\n",
        "plt.imshow(img)\n",
        "print_ID_results(\"/content/drive/MyDrive/S138_001_00000010.png\", eval_labels, verbose=True)"
      ],
      "metadata": {
        "colab": {
          "base_uri": "https://localhost:8080/",
          "height": 302
        },
        "id": "ORp5wEM5DUsO",
        "outputId": "6c463597-332e-4cc1-fd0b-87ef2c6be510"
      },
      "execution_count": null,
      "outputs": [
        {
          "output_type": "stream",
          "name": "stdout",
          "text": [
            "Matching emotion found in database! \n",
            "Nearest neighbours found in the database have labels fear and is at a distance of 0.0003657310656240975\n"
          ]
        },
        {
          "output_type": "display_data",
          "data": {
            "text/plain": [
              "<Figure size 432x288 with 1 Axes>"
            ],
            "image/png": "[encoded data removed]"
          },
          "metadata": {
            "needs_background": "light"
          }
        }
      ]
    }
  ],
  "metadata": {
    "colab": {
      "provenance": []
    },
    "gpuClass": "standard",
    "kernelspec": {
      "display_name": "Python 3",
      "name": "python3"
    },
    "language_info": {
      "name": "python"
    }
  },
  "nbformat": 4,
  "nbformat_minor": 0
}